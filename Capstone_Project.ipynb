{
  "nbformat": 4,
  "nbformat_minor": 0,
  "metadata": {
    "kernelspec": {
      "display_name": "Python 3",
      "language": "python",
      "name": "python3"
    },
    "language_info": {
      "codemirror_mode": {
        "name": "ipython",
        "version": 3
      },
      "file_extension": ".py",
      "mimetype": "text/x-python",
      "name": "python",
      "nbconvert_exporter": "python",
      "pygments_lexer": "ipython3",
      "version": "3.7.1"
    },
    "colab": {
      "name": "Capstone Project (1).json",
      "provenance": [],
      "collapsed_sections": [],
      "include_colab_link": true
    },
    "accelerator": "GPU"
  },
  "cells": [
    {
      "cell_type": "markdown",
      "metadata": {
        "id": "view-in-github",
        "colab_type": "text"
      },
      "source": [
        "<a href=\"https://colab.research.google.com/github/hpadhuka/customizing_models_tf2/blob/master/Capstone_Project.ipynb\" target=\"_parent\"><img src=\"https://colab.research.google.com/assets/colab-badge.svg\" alt=\"Open In Colab\"/></a>"
      ]
    },
    {
      "cell_type": "markdown",
      "metadata": {
        "id": "r4d-6ciyQV8u"
      },
      "source": [
        "# Capstone Project\n",
        "## Neural translation model\n",
        "### Instructions\n",
        "\n",
        "In this notebook, you will create a neural network that translates from English to German. You will use concepts from throughout this course, including building more flexible model architectures, freezing layers, data processing pipeline and sequence modelling.\n",
        "\n",
        "This project is peer-assessed. Within this notebook you will find instructions in each section for how to complete the project. Pay close attention to the instructions as the peer review will be carried out according to a grading rubric that checks key parts of the project instructions. Feel free to add extra cells into the notebook as required.\n",
        "\n",
        "### How to submit\n",
        "\n",
        "When you have completed the Capstone project notebook, you will submit a pdf of the notebook for peer review. First ensure that the notebook has been fully executed from beginning to end, and all of the cell outputs are visible. This is important, as the grading rubric depends on the reviewer being able to view the outputs of your notebook. Save the notebook as a pdf (File -> Download as -> PDF via LaTeX). You should then submit this pdf for review.\n",
        "\n",
        "### Let's get started!\n",
        "\n",
        "We'll start by running some imports, and loading the dataset. For this project you are free to make further imports throughout the notebook as you wish. "
      ]
    },
    {
      "cell_type": "code",
      "metadata": {
        "id": "V_epOCg-QV82"
      },
      "source": [
        "import numpy as np\n",
        "import tensorflow as tf\n",
        "import tensorflow_hub as hub\n",
        "import unicodedata\n",
        "import re\n",
        "from sklearn.model_selection import train_test_split\n",
        "from tensorflow.keras.layers import Layer\n",
        "from tensorflow.keras.layers import Input, Dense, LSTM, Masking\n",
        "from tensorflow.keras.models import Model\n",
        "import random\n",
        "import matplotlib.pyplot as plt"
      ],
      "execution_count": 1,
      "outputs": []
    },
    {
      "cell_type": "markdown",
      "metadata": {
        "id": "kS5Qtu6mQV83"
      },
      "source": [
        "![Flags overview image](data/germany_uk_flags.png)\n",
        "\n",
        "For the capstone project, you will use a language dataset from http://www.manythings.org/anki/ to build a neural translation model. This dataset consists of over 200,000 pairs of sentences in English and German. In order to make the training quicker, we will restrict to our dataset to 20,000 pairs. Feel free to change this if you wish - the size of the dataset used is not part of the grading rubric.\n",
        "\n",
        "Your goal is to develop a neural translation model from English to German, making use of a pre-trained English word embedding module."
      ]
    },
    {
      "cell_type": "code",
      "metadata": {
        "colab": {
          "base_uri": "https://localhost:8080/",
          "height": 235
        },
        "id": "qBIoI2COQV84",
        "outputId": "865123cd-a997-4e03-f07f-ac46dfc99adc"
      },
      "source": [
        "# Run this cell to load the dataset\n",
        "\n",
        "NUM_EXAMPLES = 20000\n",
        "#NUM_EXAMPLES = 500\n",
        "\n",
        "data_examples = []\n",
        "with open('data/deu.txt', 'r', encoding='utf8') as f:\n",
        "    for line in f.readlines():\n",
        "        if len(data_examples) < NUM_EXAMPLES:\n",
        "            data_examples.append(line)\n",
        "        else:\n",
        "            print(line)\n",
        "            print(line.split('\\t'))\n",
        "            break"
      ],
      "execution_count": 2,
      "outputs": [
        {
          "output_type": "error",
          "ename": "FileNotFoundError",
          "evalue": "ignored",
          "traceback": [
            "\u001b[0;31m---------------------------------------------------------------------------\u001b[0m",
            "\u001b[0;31mFileNotFoundError\u001b[0m                         Traceback (most recent call last)",
            "\u001b[0;32m<ipython-input-2-80fe40994e93>\u001b[0m in \u001b[0;36m<module>\u001b[0;34m()\u001b[0m\n\u001b[1;32m      5\u001b[0m \u001b[0;34m\u001b[0m\u001b[0m\n\u001b[1;32m      6\u001b[0m \u001b[0mdata_examples\u001b[0m \u001b[0;34m=\u001b[0m \u001b[0;34m[\u001b[0m\u001b[0;34m]\u001b[0m\u001b[0;34m\u001b[0m\u001b[0;34m\u001b[0m\u001b[0m\n\u001b[0;32m----> 7\u001b[0;31m \u001b[0;32mwith\u001b[0m \u001b[0mopen\u001b[0m\u001b[0;34m(\u001b[0m\u001b[0;34m'data/deu.txt'\u001b[0m\u001b[0;34m,\u001b[0m \u001b[0;34m'r'\u001b[0m\u001b[0;34m,\u001b[0m \u001b[0mencoding\u001b[0m\u001b[0;34m=\u001b[0m\u001b[0;34m'utf8'\u001b[0m\u001b[0;34m)\u001b[0m \u001b[0;32mas\u001b[0m \u001b[0mf\u001b[0m\u001b[0;34m:\u001b[0m\u001b[0;34m\u001b[0m\u001b[0;34m\u001b[0m\u001b[0m\n\u001b[0m\u001b[1;32m      8\u001b[0m     \u001b[0;32mfor\u001b[0m \u001b[0mline\u001b[0m \u001b[0;32min\u001b[0m \u001b[0mf\u001b[0m\u001b[0;34m.\u001b[0m\u001b[0mreadlines\u001b[0m\u001b[0;34m(\u001b[0m\u001b[0;34m)\u001b[0m\u001b[0;34m:\u001b[0m\u001b[0;34m\u001b[0m\u001b[0;34m\u001b[0m\u001b[0m\n\u001b[1;32m      9\u001b[0m         \u001b[0;32mif\u001b[0m \u001b[0mlen\u001b[0m\u001b[0;34m(\u001b[0m\u001b[0mdata_examples\u001b[0m\u001b[0;34m)\u001b[0m \u001b[0;34m<\u001b[0m \u001b[0mNUM_EXAMPLES\u001b[0m\u001b[0;34m:\u001b[0m\u001b[0;34m\u001b[0m\u001b[0;34m\u001b[0m\u001b[0m\n",
            "\u001b[0;31mFileNotFoundError\u001b[0m: [Errno 2] No such file or directory: 'data/deu.txt'"
          ]
        }
      ]
    },
    {
      "cell_type": "code",
      "metadata": {
        "id": "jp8gUO48QV85"
      },
      "source": [
        "# These functions preprocess English and German sentences\n",
        "\n",
        "def unicode_to_ascii(s):\n",
        "    return ''.join(c for c in unicodedata.normalize('NFD', s) if unicodedata.category(c) != 'Mn')\n",
        "\n",
        "def preprocess_sentence(sentence):\n",
        "    sentence = sentence.lower().strip()\n",
        "    sentence = re.sub(r\"ü\", 'ue', sentence)\n",
        "    sentence = re.sub(r\"ä\", 'ae', sentence)\n",
        "    sentence = re.sub(r\"ö\", 'oe', sentence)\n",
        "    sentence = re.sub(r'ß', 'ss', sentence)\n",
        "    \n",
        "    sentence = unicode_to_ascii(sentence)\n",
        "    sentence = re.sub(r\"([?.!,])\", r\" \\1 \", sentence)\n",
        "    sentence = re.sub(r\"[^a-z?.!,']+\", \" \", sentence)\n",
        "    sentence = re.sub(r'[\" \"]+', \" \", sentence)\n",
        "    \n",
        "    return sentence.strip()"
      ],
      "execution_count": null,
      "outputs": []
    },
    {
      "cell_type": "markdown",
      "metadata": {
        "id": "Wt8hXWelQV85"
      },
      "source": [
        "#### The custom translation model\n",
        "The following is a schematic of the custom translation model architecture you will develop in this project.\n",
        "\n",
        "![Model Schematic](data/neural_translation_model.png)\n",
        "\n",
        "Key:\n",
        "![Model key](data/neural_translation_model_key.png)\n",
        "\n",
        "The custom model consists of an encoder RNN and a decoder RNN. The encoder takes words of an English sentence as input, and uses a pre-trained word embedding to embed the words into a 128-dimensional space. To indicate the end of the input sentence, a special end token (in the same 128-dimensional space) is passed in as an input. This token is a TensorFlow Variable that is learned in the training phase (unlike the pre-trained word embedding, which is frozen).\n",
        "\n",
        "The decoder RNN takes the internal state of the encoder network as its initial state. A start token is passed in as the first input, which is embedded using a learned German word embedding. The decoder RNN then makes a prediction for the next German word, which during inference is then passed in as the following input, and this process is repeated until the special `<end>` token is emitted from the decoder."
      ]
    },
    {
      "cell_type": "markdown",
      "metadata": {
        "id": "lZBs0ufOQV85"
      },
      "source": [
        "## 1. Text preprocessing\n",
        "* Create separate lists of English and German sentences, and preprocess them using the `preprocess_sentence` function provided for you above.\n",
        "* Add a special `\"<start>\"` and `\"<end>\"` token to the beginning and end of every German sentence.\n",
        "* Use the Tokenizer class from the `tf.keras.preprocessing.text` module to tokenize the German sentences, ensuring that no character filters are applied. _Hint: use the Tokenizer's \"filter\" keyword argument._\n",
        "* Print out at least 5 randomly chosen examples of (preprocessed) English and German sentence pairs. For the German sentence, print out the text (with start and end tokens) as well as the tokenized sequence.\n",
        "* Pad the end of the tokenized German sequences with zeros, and batch the complete set of sequences into one numpy array."
      ]
    },
    {
      "cell_type": "code",
      "metadata": {
        "scrolled": true,
        "id": "kGnlgy1uQV86"
      },
      "source": [
        "english_sentences =[]\n",
        "german_sentences = []\n",
        "for sentence in data_examples:\n",
        "    eng, deu, rest = sentence.split('\\t')\n",
        "    eng = preprocess_sentence(eng)\n",
        "    deu = preprocess_sentence(deu)\n",
        "    english_sentences.append(eng)\n",
        "    german_sentences.append(\"<start> {0} <end>\".format(deu))"
      ],
      "execution_count": null,
      "outputs": []
    },
    {
      "cell_type": "code",
      "metadata": {
        "id": "dAKLHwWVQV87"
      },
      "source": [
        "def create_tokenizer(list_of_strings):\n",
        "    \"\"\"\n",
        "    Word tokenizer \n",
        "    \"\"\"\n",
        "    \n",
        "    tokenizer = tf.keras.preprocessing.text.Tokenizer(filters='', char_level=False, lower=False)\n",
        "    tokenizer.fit_on_texts(list_of_strings)\n",
        "    return tokenizer\n",
        "\n",
        "\n",
        "\n",
        "def strings_to_sequences(tokenizer, list_of_strings):\n",
        "    \"\"\"\n",
        "    This function takes a tokenizer object and a list of strings as its arguments.\n",
        "    It should use the tokenizer to map the text chunks to sequences of tokens and\n",
        "    then return this list of encoded sequences.\n",
        "    \"\"\"\n",
        "    \n",
        "    return tokenizer.texts_to_sequences(list_of_strings)\n",
        "\n",
        "tokenizer = create_tokenizer(german_sentences)\n",
        "deu_input_dim = len(tokenizer.word_index) + 1\n",
        "print(deu_input_dim)\n",
        "german_seq_chunks = strings_to_sequences(tokenizer, german_sentences)"
      ],
      "execution_count": null,
      "outputs": []
    },
    {
      "cell_type": "code",
      "metadata": {
        "id": "wLD4EulkQV8-"
      },
      "source": [
        "num_samples = 5\n",
        "inx = np.random.choice(len(english_sentences), num_samples, replace=False)\n",
        "for idx in inx:\n",
        "    print(english_sentences[idx], '\\t', german_sentences[idx], '\\t', german_seq_chunks[idx])"
      ],
      "execution_count": null,
      "outputs": []
    },
    {
      "cell_type": "code",
      "metadata": {
        "id": "ooaFRPh0QV8-"
      },
      "source": [
        "def make_padded_dataset(sequence_chunks):\n",
        "    \"\"\"\n",
        "    This function takes a list of lists of tokenized sequences, and transforms\n",
        "    them into a 2D numpy array, padding the sequences as necessary according to\n",
        "    the above specification. The function should then return the numpy array.\n",
        "    \"\"\"\n",
        "    \n",
        "    return tf.keras.preprocessing.sequence.pad_sequences(sequence_chunks, maxlen=20, padding='post', value=0.0)"
      ],
      "execution_count": null,
      "outputs": []
    },
    {
      "cell_type": "code",
      "metadata": {
        "id": "zjHLBJneQV8-"
      },
      "source": [
        "# Pad the token sequence chunks and get the numpy array\n",
        "\n",
        "german_padded_sequences = make_padded_dataset(german_seq_chunks)\n",
        "print(german_padded_sequences.shape)"
      ],
      "execution_count": null,
      "outputs": []
    },
    {
      "cell_type": "code",
      "metadata": {
        "id": "lpO3U_m7QV8_"
      },
      "source": [
        ""
      ],
      "execution_count": null,
      "outputs": []
    },
    {
      "cell_type": "markdown",
      "metadata": {
        "id": "8L9MH6oNQV8_"
      },
      "source": [
        "## 2. Prepare the data with tf.data.Dataset objects"
      ]
    },
    {
      "cell_type": "markdown",
      "metadata": {
        "id": "QyNY94zoQV8_"
      },
      "source": [
        "#### Load the embedding layer\n",
        "As part of the dataset preproceessing for this project, you will use a pre-trained English word embedding module from TensorFlow Hub. The URL for the module is https://tfhub.dev/google/tf2-preview/nnlm-en-dim128-with-normalization/1. This module has also been made available as a complete saved model in the folder `'./models/tf2-preview_nnlm-en-dim128_1'`. \n",
        "\n",
        "This embedding takes a batch of text tokens in a 1-D tensor of strings as input. It then embeds the separate tokens into a 128-dimensional space. \n",
        "\n",
        "The code to load and test the embedding layer is provided for you below.\n",
        "\n",
        "**NB:** this model can also be used as a sentence embedding module. The module will process each token by removing punctuation and splitting on spaces. It then averages the word embeddings over a sentence to give a single embedding vector. However, we will use it only as a word embedding module, and will pass each word in the input sentence as a separate token."
      ]
    },
    {
      "cell_type": "code",
      "metadata": {
        "id": "QzHahH0FQV8_"
      },
      "source": [
        "# Load embedding module from Tensorflow Hub\n",
        "\n",
        "embedding_layer = hub.KerasLayer(\"./models/tf2-preview_nnlm-en-dim128_1\", \n",
        "                                 output_shape=[128], input_shape=[], dtype=tf.string)"
      ],
      "execution_count": null,
      "outputs": []
    },
    {
      "cell_type": "code",
      "metadata": {
        "id": "rcsb5IUKQV8_"
      },
      "source": [
        "# Test the layer\n",
        "\n",
        "embedding_layer(tf.constant([\"these\", \"aren't\", \"the\", \"droids\", \"you're\", \"looking\", \"for\"])).shape\n"
      ],
      "execution_count": null,
      "outputs": []
    },
    {
      "cell_type": "markdown",
      "metadata": {
        "id": "JTiy-vABQV9A"
      },
      "source": [
        "You should now prepare the training and validation Datasets.\n",
        "\n",
        "* Create a random training and validation set split of the data, reserving e.g. 20% of the data for validation (NB: each English dataset example is a single sentence string, and each German dataset example is a sequence of padded integer tokens).\n",
        "* Load the training and validation sets into a tf.data.Dataset object, passing in a tuple of English and German data for both training and validation sets.\n",
        "* Create a function to map over the datasets that splits each English sentence at spaces. Apply this function to both Dataset objects using the map method. _Hint: look at the tf.strings.split function._\n",
        "* Create a function to map over the datasets that embeds each sequence of English words using the loaded embedding layer/model. Apply this function to both Dataset objects using the map method.\n",
        "* Create a function to filter out dataset examples where the English sentence is more than 13 (embedded) tokens in length. Apply this function to both Dataset objects using the filter method.\n",
        "* Create a function to map over the datasets that pads each English sequence of embeddings with some distinct padding value before the sequence, so that each sequence is length 13. Apply this function to both Dataset objects using the map method. _Hint: look at the tf.pad function. You can extract a Tensor shape using tf.shape; you might also find the tf.math.maximum function useful._\n",
        "* Batch both training and validation Datasets with a batch size of 16.\n",
        "* Print the `element_spec` property for the training and validation Datasets. \n",
        "* Using the Dataset `.take(1)` method, print the shape of the English data example from the training Dataset.\n",
        "* Using the Dataset `.take(1)` method, print the German data example Tensor from the validation Dataset."
      ]
    },
    {
      "cell_type": "code",
      "metadata": {
        "id": "KBZMIJa4QV9A"
      },
      "source": [
        "training_data, test_data, training_label, test_label = train_test_split(english_sentences, german_padded_sequences, test_size=0.2)\n",
        "print(training_data[0])\n",
        "print(training_label[0])\n",
        "#print(training_data[0], len(training_data))\n",
        "#print(training_val[0], len(training_val))\n",
        "#print(test_data[0], len(test_data))\n",
        "#print(test_val[0], len(test_val))"
      ],
      "execution_count": null,
      "outputs": []
    },
    {
      "cell_type": "code",
      "metadata": {
        "id": "s1WMBYOIQV9B"
      },
      "source": [
        "def make_dataset(input_array, target_array):\n",
        "    \"\"\"\n",
        "    This function takes two 2D numpy arrays in the first two arguments, and an integer\n",
        "    batch_size in the third argument. It should create and return a Dataset object \n",
        "    using the two numpy arrays and batch size according to the above specification.\n",
        "    \"\"\"\n",
        "    \n",
        "    dataset = tf.data.Dataset.from_tensor_slices((input_array, target_array))\n",
        "    #dataset = dataset.batch(batch_size, drop_remainder=True)\n",
        "    return dataset"
      ],
      "execution_count": null,
      "outputs": []
    },
    {
      "cell_type": "code",
      "metadata": {
        "id": "-czOG5aRQV9B"
      },
      "source": [
        "\n",
        "train_dataset = make_dataset(training_data, training_label)\n",
        "val_dataset = make_dataset(test_data, test_label)\n",
        "\n",
        "\n",
        "\n",
        "def split(x, y):\n",
        "    split_x = tf.strings.split(x)\n",
        "    return (split_x, y)\n",
        "\n",
        "def embed(x, y):\n",
        "    return (embedding_layer(x), y)\n",
        "\n",
        "def filter_long(x, y):\n",
        "    return len(x) < 14\n",
        "\n",
        "\n",
        "\n",
        "def pad(x, y):\n",
        "    paddings = tf.constant([[13, 0], [0, 0]])\n",
        "    new_x = tf.pad(x, paddings, \"CONSTANT\")\n",
        "    return (new_x[-13:,:], y)\n",
        "    \n",
        "split_train_dataset = train_dataset.map(split)\n",
        "split_val_dataset = val_dataset.map(split)\n",
        "\n",
        "embed_train_dataset = split_train_dataset.map(embed)\n",
        "embed_val_dataset = split_val_dataset.map(embed)\n",
        "\n",
        "filter_train_dataset = embed_train_dataset.filter(filter_long)\n",
        "filter_val_dataset = embed_val_dataset.filter(filter_long)\n",
        "\n",
        "\n",
        "pad_train_dataset = filter_train_dataset.map(pad)\n",
        "pad_val_dataset = filter_val_dataset.map(pad)\n",
        "\n",
        "batch_train = pad_train_dataset.batch(16, drop_remainder=True)\n",
        "batch_val = pad_val_dataset.batch(16, drop_remainder=True)\n",
        "\n",
        "print(batch_train.element_spec)\n",
        "print(batch_val.element_spec)\n",
        "\n",
        "for ds in batch_train.take(1):\n",
        "    print(\"English training example shape:\", ds[0].shape)\n",
        "\n",
        "for ds in batch_val.take(1):\n",
        "    print(\"German validation example shape:\", ds[1].shape)\n",
        "  "
      ],
      "execution_count": null,
      "outputs": []
    },
    {
      "cell_type": "code",
      "metadata": {
        "id": "-_lKGSIRQV9B"
      },
      "source": [
        ""
      ],
      "execution_count": null,
      "outputs": []
    },
    {
      "cell_type": "code",
      "metadata": {
        "id": "0IRdRBT-QV9B"
      },
      "source": [
        ""
      ],
      "execution_count": null,
      "outputs": []
    },
    {
      "cell_type": "code",
      "metadata": {
        "id": "OByUHHSiQV9C"
      },
      "source": [
        ""
      ],
      "execution_count": null,
      "outputs": []
    },
    {
      "cell_type": "markdown",
      "metadata": {
        "id": "5f2R_AkDQV9D"
      },
      "source": [
        "## 3. Create the custom layer\n",
        "You will now create a custom layer to add the learned end token embedding to the encoder model:\n",
        "\n",
        "![Encoder schematic](data/neural_translation_model_encoder.png)"
      ]
    },
    {
      "cell_type": "markdown",
      "metadata": {
        "id": "FJ8-9XefQV9D"
      },
      "source": [
        "You should now build the custom layer.\n",
        "* Using layer subclassing, create a custom layer that takes a batch of English data examples from one of the Datasets, and adds a learned embedded ‘end’ token to the end of each sequence. \n",
        "* This layer should create a TensorFlow Variable (that will be learned during training) that is 128-dimensional (the size of the embedding space). _Hint: you may find it helpful in the call method to use the tf.tile function to replicate the end token embedding across every element in the batch._\n",
        "* Using the Dataset `.take(1)` method, extract a batch of English data examples from the training Dataset and print the shape. Test the custom layer by calling the layer on the English data batch Tensor and print the resulting Tensor shape (the layer should increase the sequence length by one)."
      ]
    },
    {
      "cell_type": "code",
      "metadata": {
        "id": "bo3R-sGYQV9H"
      },
      "source": [
        "class EndToken(Layer):\n",
        "    def __init__(self):\n",
        "        super(EndToken, self).__init__()\n",
        "        init = tf.random_normal_initializer()\n",
        "        self.end_token = tf.Variable(initial_value=init(shape=(1, 1, 128)))\n",
        "    def call(self, inputs):\n",
        "        #print(\"Inputs shape:\", inputs.shape)\n",
        "        batch_size = 16\n",
        "        if inputs.shape[0]:\n",
        "            batch_size = inputs.shape[0]\n",
        "        #print(self.end_token.shape)\n",
        "        tile_end_token = tf.tile(self.end_token, [batch_size, 1, 1])\n",
        "        concat_result = tf.concat([inputs, tile_end_token], axis=1)\n",
        "        return concat_result\n",
        "                                     "
      ],
      "execution_count": null,
      "outputs": []
    },
    {
      "cell_type": "code",
      "metadata": {
        "id": "-NugqzowQV9H"
      },
      "source": [
        "et = EndToken()\n",
        "for ds_eng, ds_deu in batch_train.take(1):\n",
        "    print(\"English training example shape:\", ds_eng.shape)\n",
        "    output = et(ds_eng)\n",
        "    print(\"Shape after end token concatenation\", output.shape)\n",
        "    "
      ],
      "execution_count": null,
      "outputs": []
    },
    {
      "cell_type": "code",
      "metadata": {
        "id": "yl9EMUqdQV9H"
      },
      "source": [
        ""
      ],
      "execution_count": null,
      "outputs": []
    },
    {
      "cell_type": "markdown",
      "metadata": {
        "id": "hHqG6_xfQV9H"
      },
      "source": [
        "## 4. Build the encoder network\n",
        "The encoder network follows the schematic diagram above. You should now build the RNN encoder model.\n",
        "* Using the functional API, build the encoder network according to the following spec:\n",
        "    * The model will take a batch of sequences of embedded English words as input, as given by the Dataset objects.\n",
        "    * The next layer in the encoder will be the custom layer you created previously, to add a learned end token embedding to the end of the English sequence.\n",
        "    * This is followed by a Masking layer, with the `mask_value` set to the distinct padding value you used when you padded the English sequences with the Dataset preprocessing above.\n",
        "    * The final layer is an LSTM layer with 512 units, which also returns the hidden and cell states.\n",
        "    * The encoder is a multi-output model. There should be two output Tensors of this model: the hidden state and cell states of the LSTM layer. The output of the LSTM layer is unused.\n",
        "* Using the Dataset `.take(1)` method, extract a batch of English data examples from the training Dataset and test the encoder model by calling it on the English data Tensor, and print the shape of the resulting Tensor outputs.\n",
        "* Print the model summary for the encoder network."
      ]
    },
    {
      "cell_type": "code",
      "metadata": {
        "id": "vtUQxx_oQV9I"
      },
      "source": [
        "inputs = Input(shape=(13, 128))\n",
        "output = EndToken()(inputs)\n",
        "output = Masking()(output)\n",
        "output = LSTM(512, return_state=True)(output)\n",
        "\n",
        "encoder = Model(inputs=inputs, outputs=output, name=\"encoder\")\n",
        "encoder.summary()\n",
        "\n",
        "for ds_eng, ds_deu in batch_train.take(1):\n",
        "    final_output, final_eng_hidden_state, final_eng_cell_state = encoder(ds_eng)\n",
        "    print(f'Unused final output step shape: {final_output.shape}')\n",
        "    print(f'Hidden state: {final_eng_hidden_state.shape}')\n",
        "    print(f'Cell state: {final_eng_cell_state.shape}')\n"
      ],
      "execution_count": null,
      "outputs": []
    },
    {
      "cell_type": "code",
      "metadata": {
        "id": "-M3puGTuQV9I"
      },
      "source": [
        ""
      ],
      "execution_count": null,
      "outputs": []
    },
    {
      "cell_type": "code",
      "metadata": {
        "id": "SNLYo5fnQV9I"
      },
      "source": [
        ""
      ],
      "execution_count": null,
      "outputs": []
    },
    {
      "cell_type": "markdown",
      "metadata": {
        "id": "MPbHNwsiQV9I"
      },
      "source": [
        "## 5. Build the decoder network\n",
        "The decoder network follows the schematic diagram below. \n",
        "\n",
        "![Decoder schematic](data/neural_translation_model_decoder.png)"
      ]
    },
    {
      "cell_type": "markdown",
      "metadata": {
        "id": "3Dr89ymfQV9I"
      },
      "source": [
        "You should now build the RNN decoder model.\n",
        "* Using Model subclassing, build the decoder network according to the following spec:\n",
        "    * The initializer should create the following layers:\n",
        "        * An Embedding layer with vocabulary size set to the number of unique German tokens, embedding dimension 128, and set to mask zero values in the input.\n",
        "        * An LSTM layer with 512 units, that returns its hidden and cell states, and also returns sequences.\n",
        "        * A Dense layer with number of units equal to the number of unique German tokens, and no activation function.\n",
        "    * The call method should include the usual `inputs` argument, as well as the additional keyword arguments `hidden_state` and `cell_state`. The default value for these keyword arguments should be `None`.\n",
        "    * The call method should pass the inputs through the Embedding layer, and then through the LSTM layer. If the `hidden_state` and `cell_state` arguments are provided, these should be used for the initial state of the LSTM layer. _Hint: use the_ `initial_state` _keyword argument when calling the LSTM layer on its input._\n",
        "    * The call method should pass the LSTM output sequence through the Dense layer, and return the resulting Tensor, along with the hidden and cell states of the LSTM layer.\n",
        "* Using the Dataset `.take(1)` method, extract a batch of English and German data examples from the training Dataset. Test the decoder model by first calling the encoder model on the English data Tensor to get the hidden and cell states, and then call the decoder model on the German data Tensor and hidden and cell states, and print the shape of the resulting decoder Tensor outputs.\n",
        "* Print the model summary for the decoder network."
      ]
    },
    {
      "cell_type": "code",
      "metadata": {
        "id": "g5MKRuV0QV9I"
      },
      "source": [
        "\n",
        "class Decoder(Model):\n",
        "    def __init__(self, **kwargs):\n",
        "        super(Decoder, self).__init__()\n",
        "        self.embedding = tf.keras.layers.Embedding(input_dim=deu_input_dim , output_dim=128, mask_zero=True)\n",
        "        self.lstm = LSTM(512, return_sequences=True, return_state=True)\n",
        "        self.dense = Dense(deu_input_dim)\n",
        "        \n",
        "    def call(self, inputs, hidden_state=None, cell_state=None):\n",
        "        embed_inputs = self.embedding(inputs)\n",
        "        #if len(embed_inputs.shape.as_list()) == 1:\n",
        "        #    embed_inputs = tf.expand_dims(embed_inputs, axis=0)\n",
        "        #if len(hidden_state.shape.as_list()) == 2:\n",
        "        #    hidden_state = tf.expand_dims(hidden_state, axis=0)\n",
        "        #if len(cell_state.shape.as_list()) == 2:\n",
        "        #    cell_state = tf.expand_dims(cell_state, axis=0)\n",
        "            \n",
        "        lstm_output, current_hidden_state, current_cell_state = self.lstm(embed_inputs, initial_state=[hidden_state, cell_state])\n",
        "        outputs = self.dense(lstm_output)\n",
        "        return outputs, current_hidden_state, current_cell_state\n",
        "    \n",
        "    "
      ],
      "execution_count": null,
      "outputs": []
    },
    {
      "cell_type": "code",
      "metadata": {
        "id": "zHIR8YuJQV9J"
      },
      "source": [
        "for ds_eng, ds_deu in batch_train.take(1):\n",
        "    output, final_eng_hidden_state, final_eng_cell_state = encoder(ds_eng)\n",
        "    d = Decoder(name=\"decoder\")\n",
        "    seq_output, hidden_state, cell_state = d(ds_deu, final_eng_hidden_state, final_eng_cell_state)\n",
        "    print(seq_output.shape)\n",
        "    d.summary()"
      ],
      "execution_count": null,
      "outputs": []
    },
    {
      "cell_type": "code",
      "metadata": {
        "id": "wdAh3u5LQV9J"
      },
      "source": [
        ""
      ],
      "execution_count": null,
      "outputs": []
    },
    {
      "cell_type": "markdown",
      "metadata": {
        "id": "s5_Ra7DEQV9J"
      },
      "source": [
        "## 6. Make a custom training loop\n",
        "You should now write a custom training loop to train your custom neural translation model.\n",
        "* Define a function that takes a Tensor batch of German data (as extracted from the training Dataset), and returns a tuple containing German inputs and outputs for the decoder model (refer to schematic diagram above).\n",
        "* Define a function that computes the forward and backward pass for your translation model. This function should take an English input, German input and German output as arguments, and should do the following:\n",
        "    * Pass the English input into the encoder, to get the hidden and cell states of the encoder LSTM.\n",
        "    * These hidden and cell states are then passed into the decoder, along with the German inputs, which returns a sequence of outputs (the hidden and cell state outputs of the decoder LSTM are unused in this function).\n",
        "    * The loss should then be computed between the decoder outputs and the German output function argument.\n",
        "    * The function returns the loss and gradients with respect to the encoder and decoder’s trainable variables.\n",
        "    * Decorate the function with @tf.function\n",
        "* Define and run a custom training loop for a number of epochs (for you to choose) that does the following:\n",
        "    * Iterates through the training dataset, and creates decoder inputs and outputs from the German sequences.\n",
        "    * Updates the parameters of the translation model using the gradients of the function above and an optimizer object.\n",
        "    * Every epoch, compute the validation loss on a number of batches from the validation and save the epoch training and validation losses.\n",
        "* Plot the learning curves for loss vs epoch for both training and validation sets.\n",
        "\n",
        "_Hint: This model is computationally demanding to train. The quality of the model or length of training is not a factor in the grading rubric. However, to obtain a better model we recommend using the GPU accelerator hardware on Colab._"
      ]
    },
    {
      "cell_type": "code",
      "metadata": {
        "id": "fJOUwVUvQV9J"
      },
      "source": [
        "def prepare_train_data(deu_batch):\n",
        "    batch_inputs = []\n",
        "    batch_outputs = []\n",
        "    for row in deu_batch:\n",
        "        y = tf.where(tf.equal(row, 2)).numpy()[0][0]\n",
        "        row1 = row[:y]\n",
        "        row2 = row[1:y+1]\n",
        "        size = 20 - tf.size(row1).numpy()\n",
        "        paddings = tf.constant([[0, size]])\n",
        "        row1 = tf.pad(row1, paddings)\n",
        "        row2 = tf.pad(row2, paddings)\n",
        "        batch_inputs.append(row1)\n",
        "        batch_outputs.append(row2)\n",
        "    \n",
        "    batch_inputs = tf.stack(batch_inputs, 0)\n",
        "    batch_outputs = tf.stack(batch_outputs, 0)\n",
        "    return(batch_inputs, batch_outputs)\n",
        "\n",
        "for eng_data, deu_data in batch_train.take(1):\n",
        "    eng_input = eng_data\n",
        "    deu_input, deu_output = prepare_train_data(deu_data)\n",
        "    print(deu_input.shape)\n",
        "    print(deu_input)"
      ],
      "execution_count": null,
      "outputs": []
    },
    {
      "cell_type": "code",
      "metadata": {
        "id": "WPfFpfChQV9J"
      },
      "source": [
        "def loss_function(real, pred):\n",
        "  cross_entropy = tf.keras.losses.SparseCategoricalCrossentropy(from_logits=True, reduction='none')\n",
        "  loss = cross_entropy(y_true=real, y_pred=pred)\n",
        "  mask = tf.logical_not(tf.math.equal(real,0))   #output 0 for y=0 else output 1\n",
        "  mask = tf.cast(mask, dtype=loss.dtype)  \n",
        "  loss = mask * loss\n",
        "  loss = tf.reduce_mean(loss)\n",
        "  return loss"
      ],
      "execution_count": null,
      "outputs": []
    },
    {
      "cell_type": "code",
      "metadata": {
        "id": "ZNqQODOkQV9K"
      },
      "source": [
        "#tf.config.experimental_run_functions_eagerly(True)\n",
        "decoder = Decoder(name=\"decoder\")\n",
        "optimizer = tf.keras.optimizers.Adam(learning_rate=0.001)\n",
        "\n",
        "@tf.function\n",
        "def compute_pass(eng_input, deu_input, deu_output, training=True):    \n",
        "    with tf.GradientTape() as tape:\n",
        "        discard_output_seq, eng_final_hidden_state, eng_final_cell_state = encoder(eng_input)\n",
        "        output_seq, hidden_state, cell_state = decoder(deu_input, eng_final_hidden_state, eng_final_cell_state)\n",
        "        loss = loss_function(deu_output, output_seq)\n",
        "    variables = encoder.trainable_variables + decoder.trainable_variables\n",
        "    gradients = tape.gradient(loss, variables)\n",
        "    if training:\n",
        "        optimizer.apply_gradients(zip(gradients, variables))\n",
        "\n",
        "    return loss, gradients\n",
        "\n",
        "#compute_pass(eng_input, deu_input, deu_output)\n"
      ],
      "execution_count": null,
      "outputs": []
    },
    {
      "cell_type": "code",
      "metadata": {
        "id": "L5TPG8TjQV9K"
      },
      "source": [
        ""
      ],
      "execution_count": null,
      "outputs": []
    },
    {
      "cell_type": "code",
      "metadata": {
        "id": "PA_EBSerQV9K"
      },
      "source": [
        "\n",
        "def train_translator(num_epochs, train_dataset, val_dataset):\n",
        "    \"\"\"\n",
        "    Returns training and validation losses per epoch\n",
        "    \"\"\"\n",
        "    \n",
        "    train_epoch_loss = []\n",
        "    val_epoch_loss = []\n",
        "    #val_shuffle_dataset = val_dataset.shuffle(320, reshuffle_each_iteration=True)\n",
        "    #loss = tf.keras.losses.sparse_categorical_crossentropy(deu_output, output_seq, from_logits=True)\n",
        "    \n",
        "    for _ in range(num_epochs):\n",
        "        train_batch_loss = []\n",
        "        val_batch_loss = []\n",
        "        # Iterate over the batches of the train dataset.\n",
        "        for step, (eng_data, deu_data) in enumerate(train_dataset):\n",
        "            eng_input = eng_data\n",
        "            deu_input, deu_output = prepare_train_data(deu_data)\n",
        "            current_loss, gradients = compute_pass(eng_input, deu_input, deu_output)\n",
        "            print(\"epoch:\", _, \"step:\", step, \"train batch loss:\", current_loss)\n",
        "            train_batch_loss.append(current_loss)\n",
        "\n",
        "        \n",
        "        # Iterate over the batches of the val dataset.\n",
        "        for step, (eng_data, deu_data) in enumerate(val_dataset):\n",
        "            eng_input = eng_data\n",
        "            deu_input, deu_output = prepare_train_data(deu_data)\n",
        "            current_loss, gradients = compute_pass(eng_input, deu_input, deu_output, training=False)\n",
        "            print(\"epoch:\", _, \"step:\", step, \"val batch loss:\", current_loss)\n",
        "            val_batch_loss.append(current_loss)\n",
        "\n",
        "            \n",
        "        train_mean_loss = np.mean(train_batch_loss)\n",
        "        val_mean_loss = np.mean(val_batch_loss)\n",
        "        train_epoch_loss.append(train_mean_loss)\n",
        "        val_epoch_loss.append(val_mean_loss)\n",
        "        print('Epoch {0} training loss: {1} val loss: {2}'.format(_, train_mean_loss, val_mean_loss))    \n",
        "        \n",
        "    return train_epoch_loss, val_epoch_loss\n",
        "\n",
        "        "
      ],
      "execution_count": null,
      "outputs": []
    },
    {
      "cell_type": "code",
      "metadata": {
        "id": "V0gUU7NIQV9K"
      },
      "source": [
        "# Train the model for 3 epochs\n",
        "\n",
        "train_loss_results, val_loss_results = train_translator(3, batch_train, batch_val)"
      ],
      "execution_count": null,
      "outputs": []
    },
    {
      "cell_type": "code",
      "metadata": {
        "id": "MhMqedbwQV9K"
      },
      "source": [
        "print(\"Training loss per epoch:\", train_loss_results)\n",
        "print(\"Validation loss per epoch:\", val_loss_results)\n",
        "\n",
        "fig, axes = plt.subplots(1, 2, figsize=(12, 5))\n",
        "\n",
        "# set x axis intervals to 1\n",
        "axes[0].xaxis.set_ticks(np.arange(0, len(train_loss_results), 1))\n",
        "axes[1].xaxis.set_ticks(np.arange(0, len(train_loss_results), 1))\n",
        "\n",
        "axes[0].set_xlabel(\"Epochs\", fontsize=14)\n",
        "axes[0].set_ylabel(\"Loss\", fontsize=14)\n",
        "axes[0].set_title('Training Loss vs epochs')\n",
        "axes[0].plot(train_loss_results)\n",
        "\n",
        "axes[1].set_xlabel(\"Epochs\", fontsize=14)\n",
        "axes[1].set_ylabel(\"Loss\", fontsize=14)\n",
        "axes[1].set_title('Val Loss vs epochs')\n",
        "axes[1].plot(val_loss_results)\n",
        "plt.show()"
      ],
      "execution_count": null,
      "outputs": []
    },
    {
      "cell_type": "markdown",
      "metadata": {
        "id": "QgPYP3AVQV9K"
      },
      "source": [
        "## 7. Use the model to translate\n",
        "Now it's time to put your model into practice! You should run your translation for five randomly sampled English sentences from the dataset. For each sentence, the process is as follows:\n",
        "* Preprocess and embed the English sentence according to the model requirements.\n",
        "* Pass the embedded sentence through the encoder to get the encoder hidden and cell states.\n",
        "* Starting with the special  `\"<start>\"` token, use this token and the final encoder hidden and cell states to get the one-step prediction from the decoder, as well as the decoder’s updated hidden and cell states.\n",
        "* Create a loop to get the next step prediction and updated hidden and cell states from the decoder, using the most recent hidden and cell states. Terminate the loop when the `\"<end>\"` token is emitted, or when the sentence has reached a maximum length.\n",
        "* Decode the output token sequence into German text and print the English text and the model's German translation."
      ]
    },
    {
      "cell_type": "code",
      "metadata": {
        "id": "5lM6V3XiQV9L"
      },
      "source": [
        "total_sent = len(data_examples)\n",
        "random_samples = random.sample(range(0, total_sent), 100)\n",
        "\n",
        "english_sentences =[]\n",
        "embedded_eng_sentences = []\n",
        "\n",
        "for sentence_index in random_samples:\n",
        "    eng, deu, rest = data_examples[sentence_index].split('\\t')\n",
        "    eng = preprocess_sentence(eng)\n",
        "    english_sentences.append(eng)\n",
        "\n",
        "for sent in english_sentences:\n",
        "    print(sent)\n",
        "    eng_embedded_sent = embedding_layer(tf.strings.split(sent))\n",
        "    paddings = tf.constant([[13, 0], [0, 0]])\n",
        "    x = tf.pad(eng_embedded_sent, paddings, \"CONSTANT\")\n",
        "    padded_eng_sent = x[-13:,:]\n",
        "    #print(padded_eng_sent.shape)\n",
        "    padded_eng_sent = tf.expand_dims(padded_eng_sent, axis=0)\n",
        "    #print(padded_eng_sent.shape)\n",
        "    #print(padded_eng_sent)\n",
        "    discard_output_seq, eng_final_hidden_state, eng_final_cell_state = encoder(padded_eng_sent)\n",
        "    #print(eng_final_hidden_state.shape)\n",
        "    #print(eng_final_cell_state.shape)\n",
        "    #print(tf.expand_dims(eng_final_hidden_state, axis=0).shape)\n",
        "    deu_sentence = \"\"\n",
        "    #output_seq, hidden_state, cell_state = decoder(tf.constant(deu_index), eng_final_hidden_state, eng_final_cell_state)\n",
        "    #output_seq = tf.squeeze(output_seq)\n",
        "    #print(np.argmax(output_seq))\n",
        "    #seq = []\n",
        "    #seq.append([np.argmax(output_seq)])\n",
        "    #token = tokenizer.sequences_to_texts(seq)[0]\n",
        "    #print(token)\n",
        "    #break\n",
        "    decoder_hidden_state, decoder_cell_state = eng_final_hidden_state, eng_final_cell_state\n",
        "    token = start_token = input_sentence = '<start> something'\n",
        "    #deu_index = tokenizer.texts_to_sequences([input_sentence])\n",
        "    counter = 0\n",
        "    while token != '<end>':\n",
        "        #print(input_sentence)\n",
        "        deu_index = tokenizer.texts_to_sequences([input_sentence])\n",
        "        #print(deu_index)\n",
        "        #print(deu_index)\n",
        "        #print(\"deu_sent:\", deu_sent)\n",
        "        #print(deu_sent[0])\n",
        "        #print(deu_sent)\n",
        "        output_seq, decoder_hidden_state, decoder_cell_state = decoder(tf.constant(deu_index), decoder_hidden_state, decoder_cell_state)\n",
        "        #print(output_seq.shape)\n",
        "        #output_seq = tf.squeeze(output_seq)\n",
        "        #print(output_seq.shape)\n",
        "        #print(output_seq)\n",
        "        #print(output_seq[:,-1])\n",
        "        #print(np.argmax(output_seq))\n",
        "        seq = []\n",
        "        #deu_index[0][0] = \"{0} {1}\".format(deu_index[0][0], np.argmax(output_seq[:,-1]))\n",
        "        seq.append([np.argmax(output_seq[:,-1])])\n",
        "        token = tokenizer.sequences_to_texts(seq)[0]\n",
        "        #print(\"TOKEN:\", token)\n",
        "        #print([np.argmax(output_seq[:,-1])])\n",
        "        #print(tokenizer.sequences_to_texts(deu_index))\n",
        "        #print(seq)\n",
        "        #print(tokenizer.sequences_to_texts(seq))\n",
        "        #token = tokenizer.sequences_to_texts(seq)[0]\n",
        "        #if token == '':\n",
        "        #    continue\n",
        "        #print(token)\n",
        "        if token != '<end>':\n",
        "            deu_sentence += \" {0}\".format(token)\n",
        "            input_sentence = \"{0}{1}\".format(start_token, deu_sentence)\n",
        "        counter += 1\n",
        "        if counter > 12:\n",
        "            break\n",
        "    print(deu_sentence)\n",
        "        #discard_output_seq, eng_final_hidden_state, eng_final_cell_state = encoder(padded_eng_sent)\n",
        "        #print(eng_final_hidden_state.shape, eng_final_cell_state.shape)\n",
        "        #output_seq, hidden_state, cell_state = decoder(embedding_layer(tf.constant([\"start\"])), eng_final_hidden_state, eng_final_cell_state)\n",
        "        #break\n"
      ],
      "execution_count": null,
      "outputs": []
    },
    {
      "cell_type": "code",
      "metadata": {
        "id": "pamIAB_AQV9L"
      },
      "source": [
        "x = tf.keras.layers.Embedding(input_dim=deu_input_dim , output_dim=128, mask_zero=True)\n",
        "y = x(tf.constant([[1, 4]]))\n",
        "print(y.shape)\n",
        "print(y[:,-1,:])"
      ],
      "execution_count": null,
      "outputs": []
    },
    {
      "cell_type": "code",
      "metadata": {
        "id": "0LsnMBvIQV9L"
      },
      "source": [
        "tf.constant([1, 4])"
      ],
      "execution_count": null,
      "outputs": []
    },
    {
      "cell_type": "code",
      "metadata": {
        "id": "lh89zp97QV9L"
      },
      "source": [
        "tokenizer.texts_to_sequences([\"<start> ich dich\"])"
      ],
      "execution_count": null,
      "outputs": []
    },
    {
      "cell_type": "code",
      "metadata": {
        "id": "MBA9-Yd_QV9M"
      },
      "source": [
        ""
      ],
      "execution_count": null,
      "outputs": []
    }
  ]
}