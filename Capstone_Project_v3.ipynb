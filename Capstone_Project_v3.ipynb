{
  "nbformat": 4,
  "nbformat_minor": 0,
  "metadata": {
    "kernelspec": {
      "display_name": "Python 3",
      "language": "python",
      "name": "python3"
    },
    "language_info": {
      "codemirror_mode": {
        "name": "ipython",
        "version": 3
      },
      "file_extension": ".py",
      "mimetype": "text/x-python",
      "name": "python",
      "nbconvert_exporter": "python",
      "pygments_lexer": "ipython3",
      "version": "3.7.1"
    },
    "colab": {
      "name": "Capstone Project (1).json",
      "provenance": [],
      "collapsed_sections": [],
      "include_colab_link": true
    },
    "accelerator": "GPU"
  },
  "cells": [
    {
      "cell_type": "markdown",
      "metadata": {
        "id": "view-in-github",
        "colab_type": "text"
      },
      "source": [
        "<a href=\"https://colab.research.google.com/github/hpadhuka/customizing_models_tf2/blob/master/Capstone_Project_v3.ipynb\" target=\"_parent\"><img src=\"https://colab.research.google.com/assets/colab-badge.svg\" alt=\"Open In Colab\"/></a>"
      ]
    },
    {
      "cell_type": "markdown",
      "metadata": {
        "id": "r4d-6ciyQV8u"
      },
      "source": [
        "# Capstone Project\n",
        "## Neural translation model\n",
        "### Instructions\n",
        "\n",
        "In this notebook, you will create a neural network that translates from English to German. You will use concepts from throughout this course, including building more flexible model architectures, freezing layers, data processing pipeline and sequence modelling.\n",
        "\n",
        "This project is peer-assessed. Within this notebook you will find instructions in each section for how to complete the project. Pay close attention to the instructions as the peer review will be carried out according to a grading rubric that checks key parts of the project instructions. Feel free to add extra cells into the notebook as required.\n",
        "\n",
        "### How to submit\n",
        "\n",
        "When you have completed the Capstone project notebook, you will submit a pdf of the notebook for peer review. First ensure that the notebook has been fully executed from beginning to end, and all of the cell outputs are visible. This is important, as the grading rubric depends on the reviewer being able to view the outputs of your notebook. Save the notebook as a pdf (File -> Download as -> PDF via LaTeX). You should then submit this pdf for review.\n",
        "\n",
        "### Let's get started!\n",
        "\n",
        "We'll start by running some imports, and loading the dataset. For this project you are free to make further imports throughout the notebook as you wish. "
      ]
    },
    {
      "cell_type": "code",
      "metadata": {
        "id": "V_epOCg-QV82"
      },
      "source": [
        "import numpy as np\n",
        "import tensorflow as tf\n",
        "import tensorflow_hub as hub\n",
        "import unicodedata\n",
        "import re\n",
        "from sklearn.model_selection import train_test_split\n",
        "from tensorflow.keras.layers import Layer\n",
        "from tensorflow.keras.layers import Input, Dense, LSTM, Masking\n",
        "from tensorflow.keras.models import Model\n",
        "import random\n",
        "import matplotlib.pyplot as plt"
      ],
      "execution_count": 3,
      "outputs": []
    },
    {
      "cell_type": "markdown",
      "metadata": {
        "id": "kS5Qtu6mQV83"
      },
      "source": [
        "![Flags overview image](data/germany_uk_flags.png)\n",
        "\n",
        "For the capstone project, you will use a language dataset from http://www.manythings.org/anki/ to build a neural translation model. This dataset consists of over 200,000 pairs of sentences in English and German. In order to make the training quicker, we will restrict to our dataset to 20,000 pairs. Feel free to change this if you wish - the size of the dataset used is not part of the grading rubric.\n",
        "\n",
        "Your goal is to develop a neural translation model from English to German, making use of a pre-trained English word embedding module."
      ]
    },
    {
      "cell_type": "code",
      "metadata": {
        "colab": {
          "base_uri": "https://localhost:8080/",
          "height": 0
        },
        "id": "qBIoI2COQV84",
        "outputId": "60aacb2b-2adb-402d-8051-9e3b28050747"
      },
      "source": [
        "# Run this cell to load the dataset\n",
        "\n",
        "NUM_EXAMPLES = 20000\n",
        "from google.colab import drive\n",
        "drive.mount('/content/gdrive')\n",
        "\n",
        "data_examples = []\n",
        "with open('gdrive/My Drive/Colab Notebooks/deu.txt', 'r', encoding='utf8') as f:\n",
        "    for line in f.readlines():\n",
        "        if len(data_examples) < NUM_EXAMPLES:\n",
        "            data_examples.append(line)\n",
        "        else:\n",
        "            print(line)\n",
        "            print(line.split('\\t'))\n",
        "            break"
      ],
      "execution_count": 4,
      "outputs": [
        {
          "output_type": "stream",
          "text": [
            "Mounted at /content/gdrive\n",
            "I've got a secret.\tIch habe ein Geheimnis.\tCC-BY 2.0 (France) Attribution: tatoeba.org #2359617 (CK) & #2824661 (raggione)\n",
            "\n",
            "[\"I've got a secret.\", 'Ich habe ein Geheimnis.', 'CC-BY 2.0 (France) Attribution: tatoeba.org #2359617 (CK) & #2824661 (raggione)\\n']\n"
          ],
          "name": "stdout"
        }
      ]
    },
    {
      "cell_type": "code",
      "metadata": {
        "id": "jp8gUO48QV85"
      },
      "source": [
        "# These functions preprocess English and German sentences\n",
        "\n",
        "def unicode_to_ascii(s):\n",
        "    return ''.join(c for c in unicodedata.normalize('NFD', s) if unicodedata.category(c) != 'Mn')\n",
        "\n",
        "def preprocess_sentence(sentence):\n",
        "    sentence = sentence.lower().strip()\n",
        "    sentence = re.sub(r\"ü\", 'ue', sentence)\n",
        "    sentence = re.sub(r\"ä\", 'ae', sentence)\n",
        "    sentence = re.sub(r\"ö\", 'oe', sentence)\n",
        "    sentence = re.sub(r'ß', 'ss', sentence)\n",
        "    \n",
        "    sentence = unicode_to_ascii(sentence)\n",
        "    sentence = re.sub(r\"([?.!,])\", r\" \\1 \", sentence)\n",
        "    sentence = re.sub(r\"[^a-z?.!,']+\", \" \", sentence)\n",
        "    sentence = re.sub(r'[\" \"]+', \" \", sentence)\n",
        "    \n",
        "    return sentence.strip()"
      ],
      "execution_count": 5,
      "outputs": []
    },
    {
      "cell_type": "markdown",
      "metadata": {
        "id": "Wt8hXWelQV85"
      },
      "source": [
        "#### The custom translation model\n",
        "The following is a schematic of the custom translation model architecture you will develop in this project.\n",
        "\n",
        "![Model Schematic](data/neural_translation_model.png)\n",
        "\n",
        "Key:\n",
        "![Model key](data/neural_translation_model_key.png)\n",
        "\n",
        "The custom model consists of an encoder RNN and a decoder RNN. The encoder takes words of an English sentence as input, and uses a pre-trained word embedding to embed the words into a 128-dimensional space. To indicate the end of the input sentence, a special end token (in the same 128-dimensional space) is passed in as an input. This token is a TensorFlow Variable that is learned in the training phase (unlike the pre-trained word embedding, which is frozen).\n",
        "\n",
        "The decoder RNN takes the internal state of the encoder network as its initial state. A start token is passed in as the first input, which is embedded using a learned German word embedding. The decoder RNN then makes a prediction for the next German word, which during inference is then passed in as the following input, and this process is repeated until the special `<end>` token is emitted from the decoder."
      ]
    },
    {
      "cell_type": "markdown",
      "metadata": {
        "id": "lZBs0ufOQV85"
      },
      "source": [
        "## 1. Text preprocessing\n",
        "* Create separate lists of English and German sentences, and preprocess them using the `preprocess_sentence` function provided for you above.\n",
        "* Add a special `\"<start>\"` and `\"<end>\"` token to the beginning and end of every German sentence.\n",
        "* Use the Tokenizer class from the `tf.keras.preprocessing.text` module to tokenize the German sentences, ensuring that no character filters are applied. _Hint: use the Tokenizer's \"filter\" keyword argument._\n",
        "* Print out at least 5 randomly chosen examples of (preprocessed) English and German sentence pairs. For the German sentence, print out the text (with start and end tokens) as well as the tokenized sequence.\n",
        "* Pad the end of the tokenized German sequences with zeros, and batch the complete set of sequences into one numpy array."
      ]
    },
    {
      "cell_type": "code",
      "metadata": {
        "scrolled": true,
        "id": "kGnlgy1uQV86"
      },
      "source": [
        "english_sentences =[]\n",
        "german_sentences = []\n",
        "for sentence in data_examples:\n",
        "    eng, deu, rest = sentence.split('\\t')\n",
        "    eng = preprocess_sentence(eng)\n",
        "    deu = preprocess_sentence(deu)\n",
        "    english_sentences.append(eng)\n",
        "    german_sentences.append(\"<start> {0} <end>\".format(deu))"
      ],
      "execution_count": 6,
      "outputs": []
    },
    {
      "cell_type": "code",
      "metadata": {
        "colab": {
          "base_uri": "https://localhost:8080/",
          "height": 0
        },
        "id": "dAKLHwWVQV87",
        "outputId": "c3f280d7-82a2-4160-a287-34931e12afeb"
      },
      "source": [
        "def create_tokenizer(list_of_strings):\n",
        "    \"\"\"\n",
        "    Word tokenizer \n",
        "    \"\"\"\n",
        "    \n",
        "    tokenizer = tf.keras.preprocessing.text.Tokenizer(filters='', char_level=False, lower=False)\n",
        "    tokenizer.fit_on_texts(list_of_strings)\n",
        "    return tokenizer\n",
        "\n",
        "\n",
        "\n",
        "def strings_to_sequences(tokenizer, list_of_strings):\n",
        "    \"\"\"\n",
        "    This function takes a tokenizer object and a list of strings as its arguments.\n",
        "    It should use the tokenizer to map the text chunks to sequences of tokens and\n",
        "    then return this list of encoded sequences.\n",
        "    \"\"\"\n",
        "    \n",
        "    return tokenizer.texts_to_sequences(list_of_strings)\n",
        "\n",
        "tokenizer = create_tokenizer(german_sentences)\n",
        "deu_input_dim = len(tokenizer.word_index) + 1\n",
        "print(deu_input_dim)\n",
        "german_seq_chunks = strings_to_sequences(tokenizer, german_sentences)"
      ],
      "execution_count": 7,
      "outputs": [
        {
          "output_type": "stream",
          "text": [
            "5744\n"
          ],
          "name": "stdout"
        }
      ]
    },
    {
      "cell_type": "code",
      "metadata": {
        "colab": {
          "base_uri": "https://localhost:8080/",
          "height": 0
        },
        "id": "wLD4EulkQV8-",
        "outputId": "fedf7da7-5a3f-444e-d341-15ffe488e849"
      },
      "source": [
        "num_samples = 5\n",
        "inx = np.random.choice(len(english_sentences), num_samples, replace=False)\n",
        "for idx in inx:\n",
        "    print(english_sentences[idx], '\\t', german_sentences[idx], '\\t', german_seq_chunks[idx])"
      ],
      "execution_count": 8,
      "outputs": [
        {
          "output_type": "stream",
          "text": [
            "i'll come alone . \t <start> ich werde allein kommen . <end> \t [1, 4, 39, 139, 92, 3, 2]\n",
            "go find tom . \t <start> gehe hin und suche tom ! <end> \t [1, 133, 205, 161, 1479, 5, 9, 2]\n",
            "she tempted him . \t <start> sie fuehrte ihn in versuchung . <end> \t [1, 8, 4429, 44, 46, 1643, 3, 2]\n",
            "come help me . \t <start> komm und hilf mir ! <end> \t [1, 74, 161, 543, 21, 9, 2]\n",
            "don't deceive me . \t <start> taeuschen sie mich nicht . <end> \t [1, 2190, 8, 22, 12, 3, 2]\n"
          ],
          "name": "stdout"
        }
      ]
    },
    {
      "cell_type": "code",
      "metadata": {
        "id": "ooaFRPh0QV8-"
      },
      "source": [
        "def make_padded_dataset(sequence_chunks):\n",
        "    \"\"\"\n",
        "    This function takes a list of lists of tokenized sequences, and transforms\n",
        "    them into a 2D numpy array, padding the sequences as necessary according to\n",
        "    the above specification. The function should then return the numpy array.\n",
        "    \"\"\"\n",
        "    \n",
        "    return tf.keras.preprocessing.sequence.pad_sequences(sequence_chunks, maxlen=20, padding='post', value=0.0)"
      ],
      "execution_count": 9,
      "outputs": []
    },
    {
      "cell_type": "code",
      "metadata": {
        "colab": {
          "base_uri": "https://localhost:8080/",
          "height": 0
        },
        "id": "zjHLBJneQV8-",
        "outputId": "d4210062-26ad-44ad-bf0b-2f213b9414ae"
      },
      "source": [
        "# Pad the token sequence chunks and get the numpy array\n",
        "\n",
        "german_padded_sequences = make_padded_dataset(german_seq_chunks)\n",
        "print(german_padded_sequences.shape)"
      ],
      "execution_count": 10,
      "outputs": [
        {
          "output_type": "stream",
          "text": [
            "(20000, 20)\n"
          ],
          "name": "stdout"
        }
      ]
    },
    {
      "cell_type": "code",
      "metadata": {
        "id": "lpO3U_m7QV8_"
      },
      "source": [
        ""
      ],
      "execution_count": 10,
      "outputs": []
    },
    {
      "cell_type": "markdown",
      "metadata": {
        "id": "8L9MH6oNQV8_"
      },
      "source": [
        "## 2. Prepare the data with tf.data.Dataset objects"
      ]
    },
    {
      "cell_type": "markdown",
      "metadata": {
        "id": "QyNY94zoQV8_"
      },
      "source": [
        "#### Load the embedding layer\n",
        "As part of the dataset preproceessing for this project, you will use a pre-trained English word embedding module from TensorFlow Hub. The URL for the module is https://tfhub.dev/google/tf2-preview/nnlm-en-dim128-with-normalization/1. This module has also been made available as a complete saved model in the folder `'./models/tf2-preview_nnlm-en-dim128_1'`. \n",
        "\n",
        "This embedding takes a batch of text tokens in a 1-D tensor of strings as input. It then embeds the separate tokens into a 128-dimensional space. \n",
        "\n",
        "The code to load and test the embedding layer is provided for you below.\n",
        "\n",
        "**NB:** this model can also be used as a sentence embedding module. The module will process each token by removing punctuation and splitting on spaces. It then averages the word embeddings over a sentence to give a single embedding vector. However, we will use it only as a word embedding module, and will pass each word in the input sentence as a separate token."
      ]
    },
    {
      "cell_type": "code",
      "metadata": {
        "id": "QzHahH0FQV8_"
      },
      "source": [
        "# Load embedding module from Tensorflow Hub\n",
        "\n",
        "import tensorflow_hub as hub\n",
        "\n",
        "embedding_layer = hub.KerasLayer(\"https://tfhub.dev/google/tf2-preview/nnlm-en-dim128-with-normalization/1\", output_shape=[128],\n",
        "                           input_shape=[], dtype=tf.string)"
      ],
      "execution_count": 11,
      "outputs": []
    },
    {
      "cell_type": "code",
      "metadata": {
        "colab": {
          "base_uri": "https://localhost:8080/",
          "height": 0
        },
        "id": "rcsb5IUKQV8_",
        "outputId": "527c2b61-b253-4ea6-a620-8af2e9732509"
      },
      "source": [
        "# Test the layer\n",
        "\n",
        "embedding_layer(tf.constant([\"these\", \"aren't\", \"the\", \"droids\", \"you're\", \"looking\", \"for\"])).shape\n"
      ],
      "execution_count": 12,
      "outputs": [
        {
          "output_type": "execute_result",
          "data": {
            "text/plain": [
              "TensorShape([7, 128])"
            ]
          },
          "metadata": {
            "tags": []
          },
          "execution_count": 12
        }
      ]
    },
    {
      "cell_type": "markdown",
      "metadata": {
        "id": "JTiy-vABQV9A"
      },
      "source": [
        "You should now prepare the training and validation Datasets.\n",
        "\n",
        "* Create a random training and validation set split of the data, reserving e.g. 20% of the data for validation (NB: each English dataset example is a single sentence string, and each German dataset example is a sequence of padded integer tokens).\n",
        "* Load the training and validation sets into a tf.data.Dataset object, passing in a tuple of English and German data for both training and validation sets.\n",
        "* Create a function to map over the datasets that splits each English sentence at spaces. Apply this function to both Dataset objects using the map method. _Hint: look at the tf.strings.split function._\n",
        "* Create a function to map over the datasets that embeds each sequence of English words using the loaded embedding layer/model. Apply this function to both Dataset objects using the map method.\n",
        "* Create a function to filter out dataset examples where the English sentence is more than 13 (embedded) tokens in length. Apply this function to both Dataset objects using the filter method.\n",
        "* Create a function to map over the datasets that pads each English sequence of embeddings with some distinct padding value before the sequence, so that each sequence is length 13. Apply this function to both Dataset objects using the map method. _Hint: look at the tf.pad function. You can extract a Tensor shape using tf.shape; you might also find the tf.math.maximum function useful._\n",
        "* Batch both training and validation Datasets with a batch size of 16.\n",
        "* Print the `element_spec` property for the training and validation Datasets. \n",
        "* Using the Dataset `.take(1)` method, print the shape of the English data example from the training Dataset.\n",
        "* Using the Dataset `.take(1)` method, print the German data example Tensor from the validation Dataset."
      ]
    },
    {
      "cell_type": "code",
      "metadata": {
        "colab": {
          "base_uri": "https://localhost:8080/",
          "height": 0
        },
        "id": "KBZMIJa4QV9A",
        "outputId": "0ea3b745-9ae6-41d7-8bb4-cd3dcf5008db"
      },
      "source": [
        "training_data, test_data, training_label, test_label = train_test_split(english_sentences, german_padded_sequences, test_size=0.2)\n",
        "print(training_data[0])\n",
        "print(training_label[0])\n"
      ],
      "execution_count": 13,
      "outputs": [
        {
          "output_type": "stream",
          "text": [
            "you'll love it .\n",
            "[  1  13 246  10 343   3   2   0   0   0   0   0   0   0   0   0   0   0\n",
            "   0   0]\n"
          ],
          "name": "stdout"
        }
      ]
    },
    {
      "cell_type": "code",
      "metadata": {
        "id": "s1WMBYOIQV9B"
      },
      "source": [
        "def make_dataset(input_array, target_array):\n",
        "    \"\"\"\n",
        "    This function takes two 2D numpy arrays in the first two arguments, and an integer\n",
        "    batch_size in the third argument. It should create and return a Dataset object \n",
        "    using the two numpy arrays and batch size according to the above specification.\n",
        "    \"\"\"\n",
        "    \n",
        "    dataset = tf.data.Dataset.from_tensor_slices((input_array, target_array))\n",
        "    #dataset = dataset.batch(batch_size, drop_remainder=True)\n",
        "    return dataset"
      ],
      "execution_count": 14,
      "outputs": []
    },
    {
      "cell_type": "code",
      "metadata": {
        "colab": {
          "base_uri": "https://localhost:8080/",
          "height": 0
        },
        "id": "-czOG5aRQV9B",
        "outputId": "dbcdef5b-ce7f-4242-9b41-2f53428f6149"
      },
      "source": [
        "\n",
        "train_dataset = make_dataset(training_data, training_label)\n",
        "val_dataset = make_dataset(test_data, test_label)\n",
        "\n",
        "\n",
        "\n",
        "def split(x, y):\n",
        "    split_x = tf.strings.split(x)\n",
        "    return (split_x, y)\n",
        "\n",
        "def embed(x, y):\n",
        "    return (embedding_layer(x), y)\n",
        "\n",
        "def filter_long(x, y):\n",
        "    return len(x) < 14\n",
        "\n",
        "\n",
        "\n",
        "def pad(x, y):\n",
        "    paddings = tf.constant([[13, 0], [0, 0]])\n",
        "    new_x = tf.pad(x, paddings, \"CONSTANT\")\n",
        "    return (new_x[-13:,:], y)\n",
        "    \n",
        "split_train_dataset = train_dataset.map(split)\n",
        "split_val_dataset = val_dataset.map(split)\n",
        "\n",
        "embed_train_dataset = split_train_dataset.map(embed)\n",
        "embed_val_dataset = split_val_dataset.map(embed)\n",
        "\n",
        "filter_train_dataset = embed_train_dataset.filter(filter_long)\n",
        "filter_val_dataset = embed_val_dataset.filter(filter_long)\n",
        "\n",
        "\n",
        "pad_train_dataset = filter_train_dataset.map(pad)\n",
        "pad_val_dataset = filter_val_dataset.map(pad)\n",
        "\n",
        "batch_train = pad_train_dataset.batch(16, drop_remainder=True)\n",
        "batch_val = pad_val_dataset.batch(16, drop_remainder=True)\n",
        "\n",
        "print(batch_train.element_spec)\n",
        "print(batch_val.element_spec)\n",
        "\n",
        "for ds in batch_train.take(1):\n",
        "    print(\"English training example shape:\", ds[0].shape)\n",
        "\n",
        "for ds in batch_val.take(1):\n",
        "    print(\"German validation example:\", ds[1])\n",
        "  "
      ],
      "execution_count": 15,
      "outputs": [
        {
          "output_type": "stream",
          "text": [
            "(TensorSpec(shape=(16, None, 128), dtype=tf.float32, name=None), TensorSpec(shape=(16, 20), dtype=tf.int32, name=None))\n",
            "(TensorSpec(shape=(16, None, 128), dtype=tf.float32, name=None), TensorSpec(shape=(16, 20), dtype=tf.int32, name=None))\n",
            "English training example shape: (16, 13, 128)\n",
            "German validation example shape: tf.Tensor(\n",
            "[[   1   14  876   19 1192    3    2    0    0    0    0    0    0    0\n",
            "     0    0    0    0    0    0]\n",
            " [   1   43   16    8   62    7    2    0    0    0    0    0    0    0\n",
            "     0    0    0    0    0    0]\n",
            " [   1    5    6 1434    3    2    0    0    0    0    0    0    0    0\n",
            "     0    0    0    0    0    0]\n",
            " [   1    4   15   47  761    3    2    0    0    0    0    0    0    0\n",
            "     0    0    0    0    0    0]\n",
            " [   1   14   48  179    3    2    0    0    0    0    0    0    0    0\n",
            "     0    0    0    0    0    0]\n",
            " [   1    5    6  240    3    2    0    0    0    0    0    0    0    0\n",
            "     0    0    0    0    0    0]\n",
            " [   1    4   18   26   33  116    3    2    0    0    0    0    0    0\n",
            "     0    0    0    0    0    0]\n",
            " [   1   62   76 1771    9    2    0    0    0    0    0    0    0    0\n",
            "     0    0    0    0    0    0]\n",
            " [   1   14    6   19 2030    3    2    0    0    0    0    0    0    0\n",
            "     0    0    0    0    0    0]\n",
            " [   1    4   30   44   12  610    3    2    0    0    0    0    0    0\n",
            "     0    0    0    0    0    0]\n",
            " [   1    4   18   71  129  144    3    2    0    0    0    0    0    0\n",
            "     0    0    0    0    0    0]\n",
            " [   1  111   26  215   29    3    2    0    0    0    0    0    0    0\n",
            "     0    0    0    0    0    0]\n",
            " [   1  825   10   21 1402    9    2    0    0    0    0    0    0    0\n",
            "     0    0    0    0    0    0]\n",
            " [   1    5  277   11   12    3    2    0    0    0    0    0    0    0\n",
            "     0    0    0    0    0    0]\n",
            " [   1   78 3002    3    2    0    0    0    0    0    0    0    0    0\n",
            "     0    0    0    0    0    0]\n",
            " [   1    5 3507   55   53 3508    3    2    0    0    0    0    0    0\n",
            "     0    0    0    0    0    0]], shape=(16, 20), dtype=int32)\n"
          ],
          "name": "stdout"
        }
      ]
    },
    {
      "cell_type": "code",
      "metadata": {
        "id": "-_lKGSIRQV9B"
      },
      "source": [
        ""
      ],
      "execution_count": 15,
      "outputs": []
    },
    {
      "cell_type": "code",
      "metadata": {
        "id": "0IRdRBT-QV9B"
      },
      "source": [
        ""
      ],
      "execution_count": 15,
      "outputs": []
    },
    {
      "cell_type": "code",
      "metadata": {
        "id": "OByUHHSiQV9C"
      },
      "source": [
        ""
      ],
      "execution_count": 15,
      "outputs": []
    },
    {
      "cell_type": "markdown",
      "metadata": {
        "id": "5f2R_AkDQV9D"
      },
      "source": [
        "## 3. Create the custom layer\n",
        "You will now create a custom layer to add the learned end token embedding to the encoder model:\n",
        "\n",
        "![Encoder schematic](data/neural_translation_model_encoder.png)"
      ]
    },
    {
      "cell_type": "markdown",
      "metadata": {
        "id": "FJ8-9XefQV9D"
      },
      "source": [
        "You should now build the custom layer.\n",
        "* Using layer subclassing, create a custom layer that takes a batch of English data examples from one of the Datasets, and adds a learned embedded ‘end’ token to the end of each sequence. \n",
        "* This layer should create a TensorFlow Variable (that will be learned during training) that is 128-dimensional (the size of the embedding space). _Hint: you may find it helpful in the call method to use the tf.tile function to replicate the end token embedding across every element in the batch._\n",
        "* Using the Dataset `.take(1)` method, extract a batch of English data examples from the training Dataset and print the shape. Test the custom layer by calling the layer on the English data batch Tensor and print the resulting Tensor shape (the layer should increase the sequence length by one)."
      ]
    },
    {
      "cell_type": "code",
      "metadata": {
        "id": "bo3R-sGYQV9H"
      },
      "source": [
        "class EndToken(Layer):\n",
        "    def __init__(self):\n",
        "        super(EndToken, self).__init__()\n",
        "        init = tf.random_normal_initializer()\n",
        "        self.end_token = tf.Variable(initial_value=init(shape=(1, 1, 128)))\n",
        "    def call(self, inputs):\n",
        "        #print(\"Inputs shape:\", inputs.shape)\n",
        "        batch_size = 16\n",
        "        if inputs.shape[0]:\n",
        "            batch_size = inputs.shape[0]\n",
        "        #print(self.end_token.shape)\n",
        "        tile_end_token = tf.tile(self.end_token, [batch_size, 1, 1])\n",
        "        concat_result = tf.concat([inputs, tile_end_token], axis=1)\n",
        "        return concat_result\n",
        "                                     "
      ],
      "execution_count": 16,
      "outputs": []
    },
    {
      "cell_type": "code",
      "metadata": {
        "colab": {
          "base_uri": "https://localhost:8080/",
          "height": 0
        },
        "id": "-NugqzowQV9H",
        "outputId": "75a6e4ce-4b65-41a4-c8a2-2c66fbe8c1aa"
      },
      "source": [
        "et = EndToken()\n",
        "for ds_eng, ds_deu in batch_train.take(1):\n",
        "    print(\"English training example shape:\", ds_eng.shape)\n",
        "    output = et(ds_eng)\n",
        "    print(\"Shape after end token concatenation\", output.shape)\n",
        "    "
      ],
      "execution_count": 17,
      "outputs": [
        {
          "output_type": "stream",
          "text": [
            "English training example shape: (16, 13, 128)\n",
            "Shape after end token concatenation (16, 14, 128)\n"
          ],
          "name": "stdout"
        }
      ]
    },
    {
      "cell_type": "code",
      "metadata": {
        "id": "yl9EMUqdQV9H"
      },
      "source": [
        ""
      ],
      "execution_count": 17,
      "outputs": []
    },
    {
      "cell_type": "markdown",
      "metadata": {
        "id": "hHqG6_xfQV9H"
      },
      "source": [
        "## 4. Build the encoder network\n",
        "The encoder network follows the schematic diagram above. You should now build the RNN encoder model.\n",
        "* Using the functional API, build the encoder network according to the following spec:\n",
        "    * The model will take a batch of sequences of embedded English words as input, as given by the Dataset objects.\n",
        "    * The next layer in the encoder will be the custom layer you created previously, to add a learned end token embedding to the end of the English sequence.\n",
        "    * This is followed by a Masking layer, with the `mask_value` set to the distinct padding value you used when you padded the English sequences with the Dataset preprocessing above.\n",
        "    * The final layer is an LSTM layer with 512 units, which also returns the hidden and cell states.\n",
        "    * The encoder is a multi-output model. There should be two output Tensors of this model: the hidden state and cell states of the LSTM layer. The output of the LSTM layer is unused.\n",
        "* Using the Dataset `.take(1)` method, extract a batch of English data examples from the training Dataset and test the encoder model by calling it on the English data Tensor, and print the shape of the resulting Tensor outputs.\n",
        "* Print the model summary for the encoder network."
      ]
    },
    {
      "cell_type": "code",
      "metadata": {
        "colab": {
          "base_uri": "https://localhost:8080/",
          "height": 0
        },
        "id": "vtUQxx_oQV9I",
        "outputId": "080b5f91-7b3e-4b16-8ae7-7d12fe3f9ebf"
      },
      "source": [
        "inputs = Input(shape=(13, 128))\n",
        "output = EndToken()(inputs)\n",
        "output = Masking()(output)\n",
        "output = LSTM(512, return_state=True)(output)\n",
        "\n",
        "encoder = Model(inputs=inputs, outputs=output, name=\"encoder\")\n",
        "encoder.summary()\n",
        "\n",
        "for ds_eng, ds_deu in batch_train.take(1):\n",
        "    final_output, final_eng_hidden_state, final_eng_cell_state = encoder(ds_eng)\n",
        "    print(f'Unused final output step shape: {final_output.shape}')\n",
        "    print(f'Hidden state: {final_eng_hidden_state.shape}')\n",
        "    print(f'Cell state: {final_eng_cell_state.shape}')\n"
      ],
      "execution_count": 18,
      "outputs": [
        {
          "output_type": "stream",
          "text": [
            "Model: \"encoder\"\n",
            "_________________________________________________________________\n",
            "Layer (type)                 Output Shape              Param #   \n",
            "=================================================================\n",
            "input_1 (InputLayer)         [(None, 13, 128)]         0         \n",
            "_________________________________________________________________\n",
            "end_token_1 (EndToken)       (16, 14, 128)             128       \n",
            "_________________________________________________________________\n",
            "masking (Masking)            (16, 14, 128)             0         \n",
            "_________________________________________________________________\n",
            "lstm (LSTM)                  [(16, 512), (16, 512), (1 1312768   \n",
            "=================================================================\n",
            "Total params: 1,312,896\n",
            "Trainable params: 1,312,896\n",
            "Non-trainable params: 0\n",
            "_________________________________________________________________\n",
            "Unused final output step shape: (16, 512)\n",
            "Hidden state: (16, 512)\n",
            "Cell state: (16, 512)\n"
          ],
          "name": "stdout"
        }
      ]
    },
    {
      "cell_type": "code",
      "metadata": {
        "id": "-M3puGTuQV9I"
      },
      "source": [
        ""
      ],
      "execution_count": 18,
      "outputs": []
    },
    {
      "cell_type": "code",
      "metadata": {
        "id": "SNLYo5fnQV9I"
      },
      "source": [
        ""
      ],
      "execution_count": 18,
      "outputs": []
    },
    {
      "cell_type": "markdown",
      "metadata": {
        "id": "MPbHNwsiQV9I"
      },
      "source": [
        "## 5. Build the decoder network\n",
        "The decoder network follows the schematic diagram below. \n",
        "\n",
        "![Decoder schematic](data/neural_translation_model_decoder.png)"
      ]
    },
    {
      "cell_type": "markdown",
      "metadata": {
        "id": "3Dr89ymfQV9I"
      },
      "source": [
        "You should now build the RNN decoder model.\n",
        "* Using Model subclassing, build the decoder network according to the following spec:\n",
        "    * The initializer should create the following layers:\n",
        "        * An Embedding layer with vocabulary size set to the number of unique German tokens, embedding dimension 128, and set to mask zero values in the input.\n",
        "        * An LSTM layer with 512 units, that returns its hidden and cell states, and also returns sequences.\n",
        "        * A Dense layer with number of units equal to the number of unique German tokens, and no activation function.\n",
        "    * The call method should include the usual `inputs` argument, as well as the additional keyword arguments `hidden_state` and `cell_state`. The default value for these keyword arguments should be `None`.\n",
        "    * The call method should pass the inputs through the Embedding layer, and then through the LSTM layer. If the `hidden_state` and `cell_state` arguments are provided, these should be used for the initial state of the LSTM layer. _Hint: use the_ `initial_state` _keyword argument when calling the LSTM layer on its input._\n",
        "    * The call method should pass the LSTM output sequence through the Dense layer, and return the resulting Tensor, along with the hidden and cell states of the LSTM layer.\n",
        "* Using the Dataset `.take(1)` method, extract a batch of English and German data examples from the training Dataset. Test the decoder model by first calling the encoder model on the English data Tensor to get the hidden and cell states, and then call the decoder model on the German data Tensor and hidden and cell states, and print the shape of the resulting decoder Tensor outputs.\n",
        "* Print the model summary for the decoder network."
      ]
    },
    {
      "cell_type": "code",
      "metadata": {
        "id": "g5MKRuV0QV9I"
      },
      "source": [
        "\n",
        "class Decoder(Model):\n",
        "    def __init__(self, **kwargs):\n",
        "        super(Decoder, self).__init__()\n",
        "        self.embedding = tf.keras.layers.Embedding(input_dim=deu_input_dim , output_dim=128, mask_zero=True)\n",
        "        self.lstm = LSTM(512, return_sequences=True, return_state=True)\n",
        "        self.dense = Dense(deu_input_dim)\n",
        "        \n",
        "    def call(self, inputs, hidden_state=None, cell_state=None):\n",
        "        embed_inputs = self.embedding(inputs)\n",
        "        lstm_output, current_hidden_state, current_cell_state = self.lstm(embed_inputs, initial_state=[hidden_state, cell_state])\n",
        "        outputs = self.dense(lstm_output)\n",
        "        return outputs, current_hidden_state, current_cell_state\n",
        "    \n",
        "    "
      ],
      "execution_count": 19,
      "outputs": []
    },
    {
      "cell_type": "code",
      "metadata": {
        "colab": {
          "base_uri": "https://localhost:8080/",
          "height": 0
        },
        "id": "zHIR8YuJQV9J",
        "outputId": "3d01dfeb-ead9-4988-99ab-e3eae98ab81f"
      },
      "source": [
        "for ds_eng, ds_deu in batch_train.take(1):\n",
        "    output, final_eng_hidden_state, final_eng_cell_state = encoder(ds_eng)\n",
        "    d = Decoder(name=\"decoder\")\n",
        "    seq_output, hidden_state, cell_state = d(ds_deu, final_eng_hidden_state, final_eng_cell_state)\n",
        "    print(seq_output.shape)\n",
        "    print(hidden_state.shape)\n",
        "    print(cell_state.shape)\n",
        "    d.summary()"
      ],
      "execution_count": 20,
      "outputs": [
        {
          "output_type": "stream",
          "text": [
            "(16, 20, 5744)\n",
            "(16, 512)\n",
            "(16, 512)\n",
            "Model: \"decoder\"\n",
            "_________________________________________________________________\n",
            "Layer (type)                 Output Shape              Param #   \n",
            "=================================================================\n",
            "embedding (Embedding)        multiple                  735232    \n",
            "_________________________________________________________________\n",
            "lstm_1 (LSTM)                multiple                  1312768   \n",
            "_________________________________________________________________\n",
            "dense (Dense)                multiple                  2946672   \n",
            "=================================================================\n",
            "Total params: 4,994,672\n",
            "Trainable params: 4,994,672\n",
            "Non-trainable params: 0\n",
            "_________________________________________________________________\n"
          ],
          "name": "stdout"
        }
      ]
    },
    {
      "cell_type": "code",
      "metadata": {
        "id": "wdAh3u5LQV9J"
      },
      "source": [
        ""
      ],
      "execution_count": 20,
      "outputs": []
    },
    {
      "cell_type": "markdown",
      "metadata": {
        "id": "s5_Ra7DEQV9J"
      },
      "source": [
        "## 6. Make a custom training loop\n",
        "You should now write a custom training loop to train your custom neural translation model.\n",
        "* Define a function that takes a Tensor batch of German data (as extracted from the training Dataset), and returns a tuple containing German inputs and outputs for the decoder model (refer to schematic diagram above).\n",
        "* Define a function that computes the forward and backward pass for your translation model. This function should take an English input, German input and German output as arguments, and should do the following:\n",
        "    * Pass the English input into the encoder, to get the hidden and cell states of the encoder LSTM.\n",
        "    * These hidden and cell states are then passed into the decoder, along with the German inputs, which returns a sequence of outputs (the hidden and cell state outputs of the decoder LSTM are unused in this function).\n",
        "    * The loss should then be computed between the decoder outputs and the German output function argument.\n",
        "    * The function returns the loss and gradients with respect to the encoder and decoder’s trainable variables.\n",
        "    * Decorate the function with @tf.function\n",
        "* Define and run a custom training loop for a number of epochs (for you to choose) that does the following:\n",
        "    * Iterates through the training dataset, and creates decoder inputs and outputs from the German sequences.\n",
        "    * Updates the parameters of the translation model using the gradients of the function above and an optimizer object.\n",
        "    * Every epoch, compute the validation loss on a number of batches from the validation and save the epoch training and validation losses.\n",
        "* Plot the learning curves for loss vs epoch for both training and validation sets.\n",
        "\n",
        "_Hint: This model is computationally demanding to train. The quality of the model or length of training is not a factor in the grading rubric. However, to obtain a better model we recommend using the GPU accelerator hardware on Colab._"
      ]
    },
    {
      "cell_type": "code",
      "metadata": {
        "id": "fJOUwVUvQV9J"
      },
      "source": [
        "def prepare_train_data(deu_batch):\n",
        "    batch_inputs = []\n",
        "    batch_outputs = []\n",
        "    for row in deu_batch:\n",
        "        y = tf.where(tf.equal(row, 2)).numpy()[0][0]\n",
        "        row1 = row[:y]\n",
        "        row2 = row[1:y+1]\n",
        "        size = 20 - tf.size(row1).numpy()\n",
        "        paddings = tf.constant([[0, size]])\n",
        "        row1 = tf.pad(row1, paddings)\n",
        "        row2 = tf.pad(row2, paddings)\n",
        "        batch_inputs.append(row1)\n",
        "        batch_outputs.append(row2)\n",
        "    \n",
        "    batch_inputs = tf.stack(batch_inputs, 0)\n",
        "    batch_outputs = tf.stack(batch_outputs, 0)\n",
        "    return(batch_inputs, batch_outputs)\n",
        "\n",
        "for eng_data, deu_data in batch_train.take(1):\n",
        "    eng_input = eng_data\n",
        "    deu_input, deu_output = prepare_train_data(deu_data)\n",
        "    #print(deu_input.shape)\n",
        "    #print(deu_input)"
      ],
      "execution_count": 21,
      "outputs": []
    },
    {
      "cell_type": "code",
      "metadata": {
        "id": "WPfFpfChQV9J"
      },
      "source": [
        "def loss_function(real, pred):\n",
        "  cross_entropy = tf.keras.losses.SparseCategoricalCrossentropy(from_logits=True, reduction='none')\n",
        "  loss = cross_entropy(y_true=real, y_pred=pred)\n",
        "  mask = tf.logical_not(tf.math.equal(real,0))   #output 0 for y=0 else output 1\n",
        "  mask = tf.cast(mask, dtype=loss.dtype)  \n",
        "  loss = mask * loss\n",
        "  loss = tf.reduce_mean(loss)\n",
        "  return loss"
      ],
      "execution_count": 22,
      "outputs": []
    },
    {
      "cell_type": "code",
      "metadata": {
        "id": "ZNqQODOkQV9K"
      },
      "source": [
        "#tf.config.experimental_run_functions_eagerly(True)\n",
        "decoder = Decoder(name=\"decoder\")\n",
        "optimizer = tf.keras.optimizers.Adam(learning_rate=0.001)\n",
        "\n",
        "@tf.function\n",
        "def compute_pass(eng_input, deu_input, deu_output, training=True):    \n",
        "    with tf.GradientTape() as tape:\n",
        "        discard_output_seq, eng_final_hidden_state, eng_final_cell_state = encoder(eng_input)\n",
        "        output_seq, hidden_state, cell_state = decoder(deu_input, eng_final_hidden_state, eng_final_cell_state)\n",
        "        loss = loss_function(deu_output, output_seq)\n",
        "    variables = encoder.trainable_variables + decoder.trainable_variables\n",
        "    gradients = tape.gradient(loss, variables)\n",
        "    if training:\n",
        "        optimizer.apply_gradients(zip(gradients, variables))\n",
        "\n",
        "    return loss, gradients\n",
        "\n"
      ],
      "execution_count": 23,
      "outputs": []
    },
    {
      "cell_type": "code",
      "metadata": {
        "id": "L5TPG8TjQV9K"
      },
      "source": [
        ""
      ],
      "execution_count": 23,
      "outputs": []
    },
    {
      "cell_type": "code",
      "metadata": {
        "id": "PA_EBSerQV9K"
      },
      "source": [
        "\n",
        "def train_translator(num_epochs, train_dataset, val_dataset):\n",
        "    \"\"\"\n",
        "    Returns training and validation losses per epoch\n",
        "    \"\"\"\n",
        "    \n",
        "    train_epoch_loss = []\n",
        "    val_epoch_loss = []\n",
        "\n",
        "    \n",
        "    for _ in range(num_epochs):\n",
        "        train_batch_loss = []\n",
        "        val_batch_loss = []\n",
        "        # Iterate over the batches of the train dataset.\n",
        "        for step, (eng_data, deu_data) in enumerate(train_dataset):\n",
        "            eng_input = eng_data\n",
        "            deu_input, deu_output = prepare_train_data(deu_data)\n",
        "            current_loss, gradients = compute_pass(eng_input, deu_input, deu_output)\n",
        "            #print(\"epoch:\", _, \"step:\", step, \"train batch loss:\", current_loss)\n",
        "            train_batch_loss.append(current_loss)\n",
        "\n",
        "        \n",
        "        # Iterate over the batches of the val dataset.\n",
        "        for step, (eng_data, deu_data) in enumerate(val_dataset):\n",
        "            eng_input = eng_data\n",
        "            deu_input, deu_output = prepare_train_data(deu_data)\n",
        "            current_loss, gradients = compute_pass(eng_input, deu_input, deu_output, training=False)\n",
        "            #print(\"epoch:\", _, \"step:\", step, \"val batch loss:\", current_loss)\n",
        "            val_batch_loss.append(current_loss)\n",
        "\n",
        "            \n",
        "        train_mean_loss = np.mean(train_batch_loss)\n",
        "        val_mean_loss = np.mean(val_batch_loss)\n",
        "        train_epoch_loss.append(train_mean_loss)\n",
        "        val_epoch_loss.append(val_mean_loss)\n",
        "        print('Epoch {0} training loss: {1} val loss: {2}'.format(_, train_mean_loss, val_mean_loss))    \n",
        "        \n",
        "    return train_epoch_loss, val_epoch_loss\n",
        "\n",
        "        "
      ],
      "execution_count": 24,
      "outputs": []
    },
    {
      "cell_type": "code",
      "metadata": {
        "colab": {
          "base_uri": "https://localhost:8080/",
          "height": 0
        },
        "id": "V0gUU7NIQV9K",
        "outputId": "1786283e-e9b4-4aef-bb2e-f98e5b4f735a"
      },
      "source": [
        "# Train the model for 6 epochs, since anything more overfits\n",
        "\n",
        "train_loss_results, val_loss_results = train_translator(6, batch_train, batch_val)"
      ],
      "execution_count": 25,
      "outputs": [
        {
          "output_type": "stream",
          "text": [
            "Epoch 0 training loss: 1.0294114351272583 val loss: 0.8467981815338135\n",
            "Epoch 1 training loss: 0.7443813681602478 val loss: 0.7477275133132935\n",
            "Epoch 2 training loss: 0.6014188528060913 val loss: 0.6936606168746948\n",
            "Epoch 3 training loss: 0.48596733808517456 val loss: 0.6625306606292725\n",
            "Epoch 4 training loss: 0.3920385241508484 val loss: 0.6455568671226501\n",
            "Epoch 5 training loss: 0.3168763518333435 val loss: 0.6401674747467041\n"
          ],
          "name": "stdout"
        }
      ]
    },
    {
      "cell_type": "code",
      "metadata": {
        "colab": {
          "base_uri": "https://localhost:8080/",
          "height": 385
        },
        "id": "MhMqedbwQV9K",
        "outputId": "8f45a35b-e869-4565-c14c-3c3922e4b877"
      },
      "source": [
        "print(\"Training loss per epoch:\", train_loss_results)\n",
        "print(\"Validation loss per epoch:\", val_loss_results)\n",
        "\n",
        "plt.figure(figsize=(15,5))\n",
        "plt.subplot(121)\n",
        "plt.plot(train_loss_results)\n",
        "plt.plot(val_loss_results)\n",
        "plt.title('loss vs. epochs')\n",
        "plt.ylabel('loss')\n",
        "plt.xlabel('Epochs')\n",
        "plt.xticks(np.arange(len(train_loss_results)))\n",
        "ax = plt.gca()\n",
        "ax.set_xticklabels(1 + np.arange(len(train_loss_results)))\n",
        "plt.legend(['Training', 'Validation'], loc='lower right')\n",
        "plt.show()\n",
        "\n"
      ],
      "execution_count": 29,
      "outputs": [
        {
          "output_type": "stream",
          "text": [
            "Training loss per epoch: [1.0294114, 0.74438137, 0.60141885, 0.48596734, 0.39203852, 0.31687635]\n",
            "Validation loss per epoch: [0.8467982, 0.7477275, 0.6936606, 0.66253066, 0.64555687, 0.6401675]\n"
          ],
          "name": "stdout"
        },
        {
          "output_type": "display_data",
          "data": {
            "image/png": "[encoded data removed]",
            "text/plain": [
              "<Figure size 1080x360 with 1 Axes>"
            ]
          },
          "metadata": {
            "tags": [],
            "needs_background": "light"
          }
        }
      ]
    },
    {
      "cell_type": "markdown",
      "metadata": {
        "id": "QgPYP3AVQV9K"
      },
      "source": [
        "## 7. Use the model to translate\n",
        "Now it's time to put your model into practice! You should run your translation for five randomly sampled English sentences from the dataset. For each sentence, the process is as follows:\n",
        "* Preprocess and embed the English sentence according to the model requirements.\n",
        "* Pass the embedded sentence through the encoder to get the encoder hidden and cell states.\n",
        "* Starting with the special  `\"<start>\"` token, use this token and the final encoder hidden and cell states to get the one-step prediction from the decoder, as well as the decoder’s updated hidden and cell states.\n",
        "* Create a loop to get the next step prediction and updated hidden and cell states from the decoder, using the most recent hidden and cell states. Terminate the loop when the `\"<end>\"` token is emitted, or when the sentence has reached a maximum length.\n",
        "* Decode the output token sequence into German text and print the English text and the model's German translation."
      ]
    },
    {
      "cell_type": "code",
      "metadata": {
        "colab": {
          "base_uri": "https://localhost:8080/",
          "height": 0
        },
        "id": "5lM6V3XiQV9L",
        "outputId": "88912608-da52-46ef-f7cf-fa498ad0bb66"
      },
      "source": [
        "total_sent = len(data_examples)\n",
        "random_samples = random.sample(range(0, total_sent), 5)\n",
        "\n",
        "english_sentences =[]\n",
        "embedded_eng_sentences = []\n",
        "\n",
        "for sentence_index in random_samples:\n",
        "    eng, deu, rest = data_examples[sentence_index].split('\\t')\n",
        "    eng = preprocess_sentence(eng)\n",
        "    english_sentences.append(eng)\n",
        "\n",
        "for sent in english_sentences:\n",
        "    print(\"ENGLISH                 :\", sent)\n",
        "    eng_embedded_sent = embedding_layer(tf.strings.split(sent))\n",
        "    paddings = tf.constant([[13, 0], [0, 0]])\n",
        "    x = tf.pad(eng_embedded_sent, paddings, \"CONSTANT\")\n",
        "    padded_eng_sent = x[-13:,:]\n",
        "    padded_eng_sent = tf.expand_dims(padded_eng_sent, axis=0)\n",
        "    discard_output_seq, eng_final_hidden_state, eng_final_cell_state = encoder(padded_eng_sent)\n",
        "    deu_sentence = \"\"\n",
        "    decoder_hidden_state, decoder_cell_state = eng_final_hidden_state, eng_final_cell_state\n",
        "    token = start_token = input_sentence = '<start>'\n",
        "    counter = 0\n",
        "    while token != '<end>':\n",
        "        deu_index = tokenizer.texts_to_sequences([input_sentence])\n",
        "        output_seq, decoder_hidden_state, decoder_cell_state = decoder(tf.constant(deu_index), decoder_hidden_state, decoder_cell_state)\n",
        "        seq = []\n",
        "        seq.append([np.argmax(output_seq[:,-1])])\n",
        "        token = tokenizer.sequences_to_texts(seq)[0]\n",
        "        if token != '<end>':\n",
        "            deu_sentence += \" {0}\".format(token)\n",
        "            input_sentence = \"{0}{1}\".format(start_token, deu_sentence)\n",
        "        counter += 1\n",
        "        if counter > 12:\n",
        "            break\n",
        "    print(\"GERMAN MODEL TRANSLATION:\", deu_sentence,\"\\n\")\n"
      ],
      "execution_count": 27,
      "outputs": [
        {
          "output_type": "stream",
          "text": [
            "ENGLISH                 : we have no water .\n",
            "GERMAN MODEL TRANSLATION:  wir keine . \n",
            "\n",
            "ENGLISH                 : can you chip in ?\n",
            "GERMAN MODEL TRANSLATION:  kannst du gehen ? \n",
            "\n",
            "ENGLISH                 : she loves coffee .\n",
            "GERMAN MODEL TRANSLATION:  sie tiger . \n",
            "\n",
            "ENGLISH                 : we're innocent .\n",
            "GERMAN MODEL TRANSLATION:  wir nicht ! \n",
            "\n",
            "ENGLISH                 : i hate celery .\n",
            "GERMAN MODEL TRANSLATION:  ich hasse . \n",
            "\n"
          ],
          "name": "stdout"
        }
      ]
    },
    {
      "cell_type": "code",
      "metadata": {
        "id": "pamIAB_AQV9L"
      },
      "source": [
        ""
      ],
      "execution_count": 27,
      "outputs": []
    },
    {
      "cell_type": "code",
      "metadata": {
        "id": "0LsnMBvIQV9L"
      },
      "source": [
        ""
      ],
      "execution_count": 27,
      "outputs": []
    },
    {
      "cell_type": "code",
      "metadata": {
        "id": "lh89zp97QV9L"
      },
      "source": [
        ""
      ],
      "execution_count": 27,
      "outputs": []
    },
    {
      "cell_type": "code",
      "metadata": {
        "id": "MBA9-Yd_QV9M"
      },
      "source": [
        ""
      ],
      "execution_count": 27,
      "outputs": []
    }
  ]
}